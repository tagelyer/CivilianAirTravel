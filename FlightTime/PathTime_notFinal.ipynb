{
 "cells": [
  {
   "cell_type": "code",
   "execution_count": 1,
   "metadata": {
    "scrolled": true
   },
   "outputs": [],
   "source": [
    "import pandas as pd\n",
    "import numpy as np\n",
    "import math\n",
    "import haversine as hs\n",
    "from haversine import Unit\n",
    "import requests\n",
    "import json\n",
    "\n",
    "#import tracks from csv\n",
    "try:\n",
    "    df_1 = pd.read_csv('track1.csv')\n",
    "    df_2 = pd.read_csv('track2.csv')\n",
    "    df_airSpeed= pd.read_csv('air_speed.csv')\n",
    "except OSError:\n",
    "    print(\"Could not connect to database...\")"
   ]
  },
  {
   "cell_type": "code",
   "execution_count": 35,
   "metadata": {},
   "outputs": [],
   "source": [
    "def creat_list_from_csv(df, lat_point, lon_point, high_point):\n",
    "    lat = pd.DataFrame(df[lat_point]) \n",
    "    lon = pd.DataFrame(df[lon_point]) \n",
    "    high = pd.DataFrame(df[high_point]) \n",
    "    x, y, z=lat.to_numpy(), lon.to_numpy(), high.to_numpy()\n",
    "    temp_list= np.append(x,y, axis=1 ) #add col\n",
    "    points_list= np.append(temp_list,z, axis=1 ) \n",
    "    return points_list\n",
    "\n",
    "#form= list[lat, lon, high]\n",
    "path1_Alist= creat_list_from_csv(df_1, 'lat_a', 'lat_a', 'hight_a(m)') #points a in track 1\n",
    "path1_Blist= creat_list_from_csv(df_1, 'lat_b', 'lat_b', 'hight_b(m)') #points b in track 1\n",
    "path2_Alist= creat_list_from_csv(df_2, 'lat_a', 'lat_a', 'hight_a(m)') #points a in track 2\n",
    "path2_Blist= creat_list_from_csv(df_2, 'lat_b', 'lat_b', 'hight_b(m)') #points b in track 2"
   ]
  },
  {
   "cell_type": "code",
   "execution_count": 6,
   "metadata": {},
   "outputs": [],
   "source": [
    "def clc_dist_between_2points (lat1, lon1, lat2, lon2):\n",
    "    coordinate1=(lat1, lon1)\n",
    "    coordinate2=(lat2, lon2)\n",
    "    #dist_mil= hs.haversine(coordinate1,coordinate2,unit=Unit.MILES)\n",
    "    dist_metre= hs.haversine(coordinate1,coordinate2,unit=Unit.METERS)\n",
    "    return dist_metre"
   ]
  },
  {
   "cell_type": "code",
   "execution_count": 7,
   "metadata": {},
   "outputs": [],
   "source": [
    "def clc_azimuth(lat1, lon1, lat2, lon2):\n",
    "    dL = lon2-lon1\n",
    "    X = math.cos(lat2)* math.sin(dL)\n",
    "    Y = math.cos(lat1)*math.sin(lat2) - math.sin(lat1)*math.cos(lat2)* math.cos(dL)\n",
    "    bearing_rad = np.arctan2(X,Y) #radian\n",
    "    bearing_deg=((np.degrees(bearing_rad)+360) % 360) #degrees\n",
    "    return bearing_deg"
   ]
  },
  {
   "cell_type": "code",
   "execution_count": 10,
   "metadata": {},
   "outputs": [],
   "source": [
    "#air speed from csv\n",
    "def get_Aspeed(weight):\n",
    "    w = pd.DataFrame(df_airSpeed['weight']) \n",
    "    weight_list= w.to_numpy() \n",
    "    s = pd.DataFrame(df_airSpeed['air speed']) \n",
    "    Aspeed_list= s.to_numpy()\n",
    "    weight_mod = weight - (weight % 50) # rounding down \n",
    "    for i in range(len(s)):\n",
    "        if weight_mod == weight_list[i]:\n",
    "            break\n",
    "        else:\n",
    "            continue\n",
    "    return Aspeed_list[i]"
   ]
  },
  {
   "cell_type": "code",
   "execution_count": 38,
   "metadata": {},
   "outputs": [],
   "source": [
    "def get_weather(lat, lon, request):\n",
    "    api_key = \"c80b790a2fd8650bc690c41a4c001f0a\"\n",
    "    url = \"https://api.openweathermap.org/data/2.5/onecall?lat=%s&lon=%s&appid=%s&units=metric\" % (lat, lon, api_key)\n",
    "    response = requests.get(url)\n",
    "    data = json.loads(response.text)\n",
    "    weather_request = data[\"current\"][request]\n",
    "    return weather_request"
   ]
  },
  {
   "cell_type": "code",
   "execution_count": 53,
   "metadata": {},
   "outputs": [],
   "source": [
    "def clc_Gspeed(az, wind_speed, wind_deg, Aspeed): \n",
    "    Gspeed= Aspeed+wind_speed*math.cos((wind_deg+180)-az) # ?need to confirm?\n",
    "    return Gspeed\n",
    "#add yaw"
   ]
  },
  {
   "cell_type": "code",
   "execution_count": 49,
   "metadata": {},
   "outputs": [],
   "source": [
    "# main func- clc time and fuel weist in each leg\n",
    "def clc_leg_FlightTime_FuelWeist(lat1, lon1, lat2, lon2, h1, h2, wind_ref_point, avgROC, av_feul_climb, av_feul_str, start_fuel):\n",
    "    distance= clc_dist_between_2points(lat1, lon1, lat2, lon2)  \n",
    "    high_diff= h2-h1\n",
    "    az= clc_azimuth(lat1, lon1, lat2, lon2)\n",
    "    if(wind_ref_point=='start'): #option for later\n",
    "        wind_speed= get_weather(lat1, lon1, \"wind_speed\")\n",
    "        wind_deg = get_weather(lat1, lon1, \"wind_deg\")\n",
    "    else:\n",
    "        wind_speed= get_weather(lat1, lon1, \"wind_speed\")\n",
    "        wind_deg = get_weather(lat1, lon1, \"wind_deg\")    \n",
    "    Aspeed= get_Aspeed(aircraft_weight+start_fuel)\n",
    "    Gspeed= clc_Gspeed(az, wind_speed, wind_deg, Aspeed) \n",
    "    #How long did it take\n",
    "    time_dist= (distance/Gspeed)*100/6 #6min/100 -- time of flight from point a to b\n",
    "    time_climb= high_diff/avgROC #min -- time to climb from point 1 to point b\n",
    "    time_of_leg= max(time_dist, time_climb) \n",
    "    #Fuel consumption\n",
    "    if time_of_leg==time_climb:\n",
    "        fuel_decrease= av_feul_climb*time_of_leg\n",
    "    elif time_of_leg==time_dist:\n",
    "        fuel_decrease= av_feul_climb*time_climb \n",
    "        fuel_decrease+= av_feul_str*(time_dist- time_climb) \n",
    "    current_fuel= start_fuel- fuel_decrease\n",
    "    \n",
    "    return time_of_leg, current_fuel"
   ]
  },
  {
   "cell_type": "code",
   "execution_count": 54,
   "metadata": {},
   "outputs": [
    {
     "ename": "NameError",
     "evalue": "name 'getFlightLegData' is not defined",
     "output_type": "error",
     "traceback": [
      "\u001b[1;31m---------------------------------------------------------------------------\u001b[0m",
      "\u001b[1;31mNameError\u001b[0m                                 Traceback (most recent call last)",
      "\u001b[1;32m<ipython-input-54-a431cafcab29>\u001b[0m in \u001b[0;36m<module>\u001b[1;34m\u001b[0m\n\u001b[0;32m     12\u001b[0m     \u001b[0mstartTemp\u001b[0m\u001b[1;33m,\u001b[0m \u001b[0mendTemp\u001b[0m\u001b[1;33m=\u001b[0m \u001b[0mget_weather\u001b[0m\u001b[1;33m(\u001b[0m\u001b[0mpath1_Alist\u001b[0m\u001b[1;33m[\u001b[0m\u001b[0mi\u001b[0m\u001b[1;33m]\u001b[0m\u001b[1;33m[\u001b[0m\u001b[1;36m0\u001b[0m\u001b[1;33m]\u001b[0m\u001b[1;33m,\u001b[0m \u001b[0mpath1_Alist\u001b[0m\u001b[1;33m[\u001b[0m\u001b[0mi\u001b[0m\u001b[1;33m]\u001b[0m\u001b[1;33m[\u001b[0m\u001b[1;36m1\u001b[0m\u001b[1;33m]\u001b[0m\u001b[1;33m,\u001b[0m \u001b[1;34m\"temp\"\u001b[0m\u001b[1;33m)\u001b[0m\u001b[1;33m,\u001b[0m \u001b[0mget_weather\u001b[0m\u001b[1;33m(\u001b[0m\u001b[0mpath1_Blist\u001b[0m\u001b[1;33m[\u001b[0m\u001b[0mi\u001b[0m\u001b[1;33m]\u001b[0m\u001b[1;33m[\u001b[0m\u001b[1;36m0\u001b[0m\u001b[1;33m]\u001b[0m\u001b[1;33m,\u001b[0m \u001b[0mpath1_Blist\u001b[0m\u001b[1;33m[\u001b[0m\u001b[0mi\u001b[0m\u001b[1;33m]\u001b[0m\u001b[1;33m[\u001b[0m\u001b[1;36m1\u001b[0m\u001b[1;33m]\u001b[0m\u001b[1;33m,\u001b[0m \u001b[1;34m\"temp\"\u001b[0m\u001b[1;33m)\u001b[0m\u001b[1;33m\u001b[0m\u001b[1;33m\u001b[0m\u001b[0m\n\u001b[0;32m     13\u001b[0m     \u001b[1;31m#func in-- getFlightData.ipynb\u001b[0m\u001b[1;33m\u001b[0m\u001b[1;33m\u001b[0m\u001b[1;33m\u001b[0m\u001b[0m\n\u001b[1;32m---> 14\u001b[1;33m     \u001b[0mavgROC\u001b[0m\u001b[1;33m,\u001b[0m \u001b[0mavgFC\u001b[0m\u001b[1;33m=\u001b[0m \u001b[0mgetFlightLegData\u001b[0m\u001b[1;33m(\u001b[0m\u001b[0maircraftType\u001b[0m\u001b[1;33m,\u001b[0m \u001b[0mflightPattern\u001b[0m\u001b[1;33m,\u001b[0m \u001b[0mweight_tot\u001b[0m\u001b[1;33m,\u001b[0m \u001b[0mleg_fuel_list\u001b[0m\u001b[1;33m[\u001b[0m\u001b[0mi\u001b[0m\u001b[1;33m]\u001b[0m\u001b[1;33m,\u001b[0m \u001b[0mstartTemp\u001b[0m\u001b[1;33m,\u001b[0m \u001b[0mendTemp\u001b[0m\u001b[1;33m,\u001b[0m\u001b[0mpath1_Alist\u001b[0m\u001b[1;33m[\u001b[0m\u001b[0mi\u001b[0m\u001b[1;33m]\u001b[0m\u001b[1;33m[\u001b[0m\u001b[1;36m2\u001b[0m\u001b[1;33m]\u001b[0m\u001b[1;33m,\u001b[0m \u001b[0mpath1_Blist\u001b[0m\u001b[1;33m[\u001b[0m\u001b[0mi\u001b[0m\u001b[1;33m]\u001b[0m\u001b[1;33m[\u001b[0m\u001b[1;36m2\u001b[0m\u001b[1;33m]\u001b[0m\u001b[1;33m)\u001b[0m\u001b[1;33m\u001b[0m\u001b[1;33m\u001b[0m\u001b[0m\n\u001b[0m\u001b[0;32m     15\u001b[0m     \u001b[0mav_feul_str\u001b[0m\u001b[1;33m=\u001b[0m\u001b[1;36m10\u001b[0m \u001b[1;31m# ?missing func?\u001b[0m\u001b[1;33m\u001b[0m\u001b[1;33m\u001b[0m\u001b[0m\n\u001b[0;32m     16\u001b[0m     \u001b[1;31m#avgROC, avgFC, av_feul_str= 10, 10, 10 - for check, delete when marge codes\u001b[0m\u001b[1;33m\u001b[0m\u001b[1;33m\u001b[0m\u001b[1;33m\u001b[0m\u001b[0m\n",
      "\u001b[1;31mNameError\u001b[0m: name 'getFlightLegData' is not defined"
     ]
    }
   ],
   "source": [
    "leg_time_list=[]\n",
    "leg_fuel_list=[]\n",
    "num_legs= int(len(df_1['lat_a'])) \n",
    "wind_ref_point= 'start'\n",
    "leg_fuel_list += [500] #?start fuel?\n",
    "aircraftType=\"Airbus\" # ?temporary? \n",
    "aircraft_weight= 100 # ?temporary?\n",
    "\n",
    "#------- path 1 only-------\n",
    "for i in range(num_legs):\n",
    "    weight_tot= leg_fuel_list[i]+aircraft_weight\n",
    "    startTemp, endTemp= get_weather(path1_Alist[i][0], path1_Alist[i][1], \"temp\"), get_weather(path1_Blist[i][0], path1_Blist[i][1], \"temp\")\n",
    "    #func in-- getFlightData.ipynb\n",
    "    avgROC, avgFC= getFlightLegData(aircraftType, flightPattern, weight_tot, leg_fuel_list[i], startTemp, endTemp,path1_Alist[i][2], path1_Blist[i][2])\n",
    "    av_feul_str= 0.002 # ?missing func?\n",
    "    #avgROC, avgFC= 500, 0.002 - for check, delete when marge codes\n",
    "    leg_time, fuel_time= clc_leg_FlightTime_FuelWeist(path1_Alist[i][0], path1_Alist[i][1], path1_Blist[i][0], path1_Blist[i][1], path1_Alist[i][2], path1_Blist[i][2], wind_ref_point, avgROC, avgFC , av_feul_str, leg_fuel_list[i]) \n",
    "    leg_time_list.append(leg_time)\n",
    "    leg_fuel_list.append(fuel_time)\n",
    "    \n",
    "total_time = sum(leg_time_list) \n",
    "total_fuel_weist=leg_fuel_list[0]- leg_fuel_list[num_legs-1] \n",
    "#---------------------------\n",
    "\n",
    "\n",
    "#add another path and compare\n",
    "#yaw (wind)\n",
    "#av_feul_str missing func\n",
    "#start fuel, aircraftType,aircraft_weight - add a csv file\n",
    "#average feul weist while waiting missing func\n",
    "#verify units between all codes"
   ]
  },
  {
   "cell_type": "code",
   "execution_count": null,
   "metadata": {},
   "outputs": [],
   "source": []
  }
 ],
 "metadata": {
  "kernelspec": {
   "display_name": "Python 3",
   "language": "python",
   "name": "python3"
  },
  "language_info": {
   "codemirror_mode": {
    "name": "ipython",
    "version": 3
   },
   "file_extension": ".py",
   "mimetype": "text/x-python",
   "name": "python",
   "nbconvert_exporter": "python",
   "pygments_lexer": "ipython3",
   "version": "3.8.3"
  }
 },
 "nbformat": 4,
 "nbformat_minor": 4
}
